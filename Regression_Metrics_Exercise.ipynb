{
  "nbformat": 4,
  "nbformat_minor": 0,
  "metadata": {
    "colab": {
      "provenance": [],
      "authorship_tag": "ABX9TyMLewKoP/y4kGiJ0RzO4XGM",
      "include_colab_link": true
    },
    "kernelspec": {
      "name": "python3",
      "display_name": "Python 3"
    },
    "language_info": {
      "name": "python"
    }
  },
  "cells": [
    {
      "cell_type": "markdown",
      "metadata": {
        "id": "view-in-github",
        "colab_type": "text"
      },
      "source": [
        "<a href=\"https://colab.research.google.com/github/ahmadalmasri270/training-projects/blob/main/Regression_Metrics_Exercise.ipynb\" target=\"_parent\"><img src=\"https://colab.research.google.com/assets/colab-badge.svg\" alt=\"Open In Colab\"/></a>"
      ]
    },
    {
      "cell_type": "markdown",
      "source": [
        "#Assignment:\n",
        "The ultimate goal of this task is to predict the price based on the available features using a linear regression model.\n",
        "\n",
        "All of the features and the target are continuous variables.\n",
        "\n",
        "For now, you do not need to do any cleaning to this data set. You can use it \"as is.\"\n",
        "\n",
        "An important exploration step is to determine if there are any moderate or strong correlations in your variables.\n",
        "\n",
        "1. Make a heatmap of the correlations. Identify any features that have a correlation coefficient of magnitude 0.5 (could be + or -) or greater with price. We will limit our analysis to these three features.\n",
        "\n",
        "2. Select columns for your feature matrix (X) and select price for your target vector (y).\n",
        "\n",
        "3. Split your data into train and test groups. Please use random number 42 for consistency!\n",
        "\n",
        "4. Instantiate your model and fit it on the training set.\n",
        "\n",
        "5. Evaluate your model performance using R^2 on the training set and on the test set. Is there a difference between model performance on the training data vs the test data?\n",
        "\n",
        "6. Evaluate your model using mean absolute error (MAE).\n",
        "\n",
        "7. Evaluate your model using mean squared error (MSE).\n",
        "\n",
        "8. Evaluate your model performance using RMSE on the training set and on the test set. This metric is useful because the units will be in the same units as your target vector. In this case 1,000 of dollars."
      ],
      "metadata": {
        "id": "OBYtVBowV9mH"
      }
    },
    {
      "cell_type": "markdown",
      "source": [
        "#1.Load the Data."
      ],
      "metadata": {
        "id": "J02MDPU_WHms"
      }
    },
    {
      "cell_type": "code",
      "execution_count": 2,
      "metadata": {
        "colab": {
          "base_uri": "https://localhost:8080/"
        },
        "id": "ZeiGEgwdVwg2",
        "outputId": "498daf89-457b-489f-c1a1-8e1deea1605b"
      },
      "outputs": [
        {
          "output_type": "stream",
          "name": "stdout",
          "text": [
            "Mounted at /content/drive\n"
          ]
        }
      ],
      "source": [
        "from google.colab import drive\n",
        "drive.mount('/content/drive')"
      ]
    },
    {
      "cell_type": "code",
      "source": [
        "import pandas as pd\n",
        "df = pd.read_csv('/content/drive/MyDrive/Coding Dojo/Boston_Housing_from_Sklearn.csv')\n",
        "df.head()"
      ],
      "metadata": {
        "colab": {
          "base_uri": "https://localhost:8080/",
          "height": 206
        },
        "id": "d9W6REr-WDmd",
        "outputId": "f3668afb-d5e8-4c8c-a919-96efa75c6b80"
      },
      "execution_count": 3,
      "outputs": [
        {
          "output_type": "execute_result",
          "data": {
            "text/plain": [
              "      CRIM    NOX     RM   AGE  PTRATIO  LSTAT  PRICE\n",
              "0  0.00632  0.538  6.575  65.2     15.3   4.98   24.0\n",
              "1  0.02731  0.469  6.421  78.9     17.8   9.14   21.6\n",
              "2  0.02729  0.469  7.185  61.1     17.8   4.03   34.7\n",
              "3  0.03237  0.458  6.998  45.8     18.7   2.94   33.4\n",
              "4  0.06905  0.458  7.147  54.2     18.7   5.33   36.2"
            ],
            "text/html": [
              "\n",
              "  <div id=\"df-06f99013-f4c9-4796-a74f-5380d7eb9c2d\">\n",
              "    <div class=\"colab-df-container\">\n",
              "      <div>\n",
              "<style scoped>\n",
              "    .dataframe tbody tr th:only-of-type {\n",
              "        vertical-align: middle;\n",
              "    }\n",
              "\n",
              "    .dataframe tbody tr th {\n",
              "        vertical-align: top;\n",
              "    }\n",
              "\n",
              "    .dataframe thead th {\n",
              "        text-align: right;\n",
              "    }\n",
              "</style>\n",
              "<table border=\"1\" class=\"dataframe\">\n",
              "  <thead>\n",
              "    <tr style=\"text-align: right;\">\n",
              "      <th></th>\n",
              "      <th>CRIM</th>\n",
              "      <th>NOX</th>\n",
              "      <th>RM</th>\n",
              "      <th>AGE</th>\n",
              "      <th>PTRATIO</th>\n",
              "      <th>LSTAT</th>\n",
              "      <th>PRICE</th>\n",
              "    </tr>\n",
              "  </thead>\n",
              "  <tbody>\n",
              "    <tr>\n",
              "      <th>0</th>\n",
              "      <td>0.00632</td>\n",
              "      <td>0.538</td>\n",
              "      <td>6.575</td>\n",
              "      <td>65.2</td>\n",
              "      <td>15.3</td>\n",
              "      <td>4.98</td>\n",
              "      <td>24.0</td>\n",
              "    </tr>\n",
              "    <tr>\n",
              "      <th>1</th>\n",
              "      <td>0.02731</td>\n",
              "      <td>0.469</td>\n",
              "      <td>6.421</td>\n",
              "      <td>78.9</td>\n",
              "      <td>17.8</td>\n",
              "      <td>9.14</td>\n",
              "      <td>21.6</td>\n",
              "    </tr>\n",
              "    <tr>\n",
              "      <th>2</th>\n",
              "      <td>0.02729</td>\n",
              "      <td>0.469</td>\n",
              "      <td>7.185</td>\n",
              "      <td>61.1</td>\n",
              "      <td>17.8</td>\n",
              "      <td>4.03</td>\n",
              "      <td>34.7</td>\n",
              "    </tr>\n",
              "    <tr>\n",
              "      <th>3</th>\n",
              "      <td>0.03237</td>\n",
              "      <td>0.458</td>\n",
              "      <td>6.998</td>\n",
              "      <td>45.8</td>\n",
              "      <td>18.7</td>\n",
              "      <td>2.94</td>\n",
              "      <td>33.4</td>\n",
              "    </tr>\n",
              "    <tr>\n",
              "      <th>4</th>\n",
              "      <td>0.06905</td>\n",
              "      <td>0.458</td>\n",
              "      <td>7.147</td>\n",
              "      <td>54.2</td>\n",
              "      <td>18.7</td>\n",
              "      <td>5.33</td>\n",
              "      <td>36.2</td>\n",
              "    </tr>\n",
              "  </tbody>\n",
              "</table>\n",
              "</div>\n",
              "      <button class=\"colab-df-convert\" onclick=\"convertToInteractive('df-06f99013-f4c9-4796-a74f-5380d7eb9c2d')\"\n",
              "              title=\"Convert this dataframe to an interactive table.\"\n",
              "              style=\"display:none;\">\n",
              "        \n",
              "  <svg xmlns=\"http://www.w3.org/2000/svg\" height=\"24px\"viewBox=\"0 0 24 24\"\n",
              "       width=\"24px\">\n",
              "    <path d=\"M0 0h24v24H0V0z\" fill=\"none\"/>\n",
              "    <path d=\"M18.56 5.44l.94 2.06.94-2.06 2.06-.94-2.06-.94-.94-2.06-.94 2.06-2.06.94zm-11 1L8.5 8.5l.94-2.06 2.06-.94-2.06-.94L8.5 2.5l-.94 2.06-2.06.94zm10 10l.94 2.06.94-2.06 2.06-.94-2.06-.94-.94-2.06-.94 2.06-2.06.94z\"/><path d=\"M17.41 7.96l-1.37-1.37c-.4-.4-.92-.59-1.43-.59-.52 0-1.04.2-1.43.59L10.3 9.45l-7.72 7.72c-.78.78-.78 2.05 0 2.83L4 21.41c.39.39.9.59 1.41.59.51 0 1.02-.2 1.41-.59l7.78-7.78 2.81-2.81c.8-.78.8-2.07 0-2.86zM5.41 20L4 18.59l7.72-7.72 1.47 1.35L5.41 20z\"/>\n",
              "  </svg>\n",
              "      </button>\n",
              "      \n",
              "  <style>\n",
              "    .colab-df-container {\n",
              "      display:flex;\n",
              "      flex-wrap:wrap;\n",
              "      gap: 12px;\n",
              "    }\n",
              "\n",
              "    .colab-df-convert {\n",
              "      background-color: #E8F0FE;\n",
              "      border: none;\n",
              "      border-radius: 50%;\n",
              "      cursor: pointer;\n",
              "      display: none;\n",
              "      fill: #1967D2;\n",
              "      height: 32px;\n",
              "      padding: 0 0 0 0;\n",
              "      width: 32px;\n",
              "    }\n",
              "\n",
              "    .colab-df-convert:hover {\n",
              "      background-color: #E2EBFA;\n",
              "      box-shadow: 0px 1px 2px rgba(60, 64, 67, 0.3), 0px 1px 3px 1px rgba(60, 64, 67, 0.15);\n",
              "      fill: #174EA6;\n",
              "    }\n",
              "\n",
              "    [theme=dark] .colab-df-convert {\n",
              "      background-color: #3B4455;\n",
              "      fill: #D2E3FC;\n",
              "    }\n",
              "\n",
              "    [theme=dark] .colab-df-convert:hover {\n",
              "      background-color: #434B5C;\n",
              "      box-shadow: 0px 1px 3px 1px rgba(0, 0, 0, 0.15);\n",
              "      filter: drop-shadow(0px 1px 2px rgba(0, 0, 0, 0.3));\n",
              "      fill: #FFFFFF;\n",
              "    }\n",
              "  </style>\n",
              "\n",
              "      <script>\n",
              "        const buttonEl =\n",
              "          document.querySelector('#df-06f99013-f4c9-4796-a74f-5380d7eb9c2d button.colab-df-convert');\n",
              "        buttonEl.style.display =\n",
              "          google.colab.kernel.accessAllowed ? 'block' : 'none';\n",
              "\n",
              "        async function convertToInteractive(key) {\n",
              "          const element = document.querySelector('#df-06f99013-f4c9-4796-a74f-5380d7eb9c2d');\n",
              "          const dataTable =\n",
              "            await google.colab.kernel.invokeFunction('convertToInteractive',\n",
              "                                                     [key], {});\n",
              "          if (!dataTable) return;\n",
              "\n",
              "          const docLinkHtml = 'Like what you see? Visit the ' +\n",
              "            '<a target=\"_blank\" href=https://colab.research.google.com/notebooks/data_table.ipynb>data table notebook</a>'\n",
              "            + ' to learn more about interactive tables.';\n",
              "          element.innerHTML = '';\n",
              "          dataTable['output_type'] = 'display_data';\n",
              "          await google.colab.output.renderOutput(dataTable, element);\n",
              "          const docLink = document.createElement('div');\n",
              "          docLink.innerHTML = docLinkHtml;\n",
              "          element.appendChild(docLink);\n",
              "        }\n",
              "      </script>\n",
              "    </div>\n",
              "  </div>\n",
              "  "
            ]
          },
          "metadata": {},
          "execution_count": 3
        }
      ]
    },
    {
      "cell_type": "code",
      "source": [
        "# Imports\n",
        "import pandas as pd\n",
        "import numpy as np\n",
        "import seaborn as sns\n",
        "import matplotlib.pyplot as plt\n",
        "from sklearn.model_selection import train_test_split\n",
        "from sklearn.impute import SimpleImputer\n",
        "from sklearn.preprocessing import StandardScaler, OneHotEncoder\n",
        "from sklearn.compose import make_column_selector, make_column_transformer\n",
        "from sklearn.pipeline import make_pipeline\n",
        "from sklearn.dummy import DummyRegressor\n",
        "from sklearn.metrics import mean_squared_error, mean_absolute_error, r2_score\n",
        "from sklearn.tree import DecisionTreeRegressor\n",
        "from sklearn.ensemble import RandomForestRegressor\n",
        "from sklearn.tree import plot_tree\n",
        "from sklearn import set_config\n",
        "from sklearn.linear_model import LinearRegression\n",
        "from sklearn.ensemble import BaggingRegressor\n",
        "set_config(display='diagram')"
      ],
      "metadata": {
        "id": "9R8mscF3V9Hp"
      },
      "execution_count": 26,
      "outputs": []
    },
    {
      "cell_type": "code",
      "source": [
        "# Make copy of the Data set\n",
        "df_ml = df.copy()"
      ],
      "metadata": {
        "id": "3TnRti2jYVS9"
      },
      "execution_count": 5,
      "outputs": []
    },
    {
      "cell_type": "markdown",
      "source": [
        "##3.check for Duplicated and missing value"
      ],
      "metadata": {
        "id": "JJJgD8VfYlTu"
      }
    },
    {
      "cell_type": "code",
      "source": [
        "df_ml.duplicated().sum()"
      ],
      "metadata": {
        "colab": {
          "base_uri": "https://localhost:8080/"
        },
        "id": "sSDP_GX2Ylqy",
        "outputId": "7fa60ba2-948c-46e4-c246-afc1b7c69f14"
      },
      "execution_count": 6,
      "outputs": [
        {
          "output_type": "execute_result",
          "data": {
            "text/plain": [
              "0"
            ]
          },
          "metadata": {},
          "execution_count": 6
        }
      ]
    },
    {
      "cell_type": "code",
      "source": [
        "df_ml.info()"
      ],
      "metadata": {
        "colab": {
          "base_uri": "https://localhost:8080/"
        },
        "id": "th6hLmycZA8x",
        "outputId": "c76c3a2d-52dd-40fa-b1f7-5a52067a521a"
      },
      "execution_count": 7,
      "outputs": [
        {
          "output_type": "stream",
          "name": "stdout",
          "text": [
            "<class 'pandas.core.frame.DataFrame'>\n",
            "RangeIndex: 506 entries, 0 to 505\n",
            "Data columns (total 7 columns):\n",
            " #   Column   Non-Null Count  Dtype  \n",
            "---  ------   --------------  -----  \n",
            " 0   CRIM     506 non-null    float64\n",
            " 1   NOX      506 non-null    float64\n",
            " 2   RM       506 non-null    float64\n",
            " 3   AGE      506 non-null    float64\n",
            " 4   PTRATIO  506 non-null    float64\n",
            " 5   LSTAT    506 non-null    float64\n",
            " 6   PRICE    506 non-null    float64\n",
            "dtypes: float64(7)\n",
            "memory usage: 27.8 KB\n"
          ]
        }
      ]
    },
    {
      "cell_type": "markdown",
      "source": [
        "#4.Creating a Heatmap"
      ],
      "metadata": {
        "id": "G49MIWJfa-pd"
      }
    },
    {
      "cell_type": "code",
      "source": [
        "#create heat map\n",
        "corr = df_ml.corr()\n",
        "sns.heatmap(corr, cmap='coolwarm', annot=True, fmt='.1f')"
      ],
      "metadata": {
        "colab": {
          "base_uri": "https://localhost:8080/",
          "height": 287
        },
        "id": "TT2m0N8XbDTX",
        "outputId": "800b40ea-0353-400c-a858-30875969f033"
      },
      "execution_count": 8,
      "outputs": [
        {
          "output_type": "execute_result",
          "data": {
            "text/plain": [
              "<matplotlib.axes._subplots.AxesSubplot at 0x7f807d0f1ad0>"
            ]
          },
          "metadata": {},
          "execution_count": 8
        },
        {
          "output_type": "display_data",
          "data": {
            "text/plain": [
              "<Figure size 432x288 with 2 Axes>"
            ],
            "image/png": "[encoded data removed]"
          },
          "metadata": {
            "needs_background": "light"
          }
        }
      ]
    },
    {
      "cell_type": "markdown",
      "source": [
        "#5.Splitting the Data"
      ],
      "metadata": {
        "id": "6jV0zcDkbgVu"
      }
    },
    {
      "cell_type": "code",
      "source": [
        "#create target and features\n",
        "X = df_ml.drop(columns=['PRICE'])\n",
        "y = df_ml['PRICE']"
      ],
      "metadata": {
        "id": "hvwUpfLeboWe"
      },
      "execution_count": 9,
      "outputs": []
    },
    {
      "cell_type": "code",
      "source": [
        "#split the data\n",
        "X_train, X_test, y_train, y_test = train_test_split(X, y, random_state = 42)"
      ],
      "metadata": {
        "id": "O7FjickBbz_I"
      },
      "execution_count": 10,
      "outputs": []
    },
    {
      "cell_type": "markdown",
      "source": [
        "#6.Creating the Model"
      ],
      "metadata": {
        "id": "KOnPO6kecvom"
      }
    },
    {
      "cell_type": "code",
      "source": [
        "#create linear regression model\n",
        "reg_model = LinearRegression()\n",
        "#fit training data on model\n",
        "reg_model.fit(X_train, y_train)"
      ],
      "metadata": {
        "colab": {
          "base_uri": "https://localhost:8080/",
          "height": 75
        },
        "id": "etn4iGCDcz3_",
        "outputId": "88353701-3016-4930-d5c6-f642cf895959"
      },
      "execution_count": 11,
      "outputs": [
        {
          "output_type": "execute_result",
          "data": {
            "text/plain": [
              "LinearRegression()"
            ],
            "text/html": [
              "<style>#sk-0efbf9b2-27e0-49b2-a988-143c3d26b49c {color: black;background-color: white;}#sk-0efbf9b2-27e0-49b2-a988-143c3d26b49c pre{padding: 0;}#sk-0efbf9b2-27e0-49b2-a988-143c3d26b49c div.sk-toggleable {background-color: white;}#sk-0efbf9b2-27e0-49b2-a988-143c3d26b49c label.sk-toggleable__label {cursor: pointer;display: block;width: 100%;margin-bottom: 0;padding: 0.3em;box-sizing: border-box;text-align: center;}#sk-0efbf9b2-27e0-49b2-a988-143c3d26b49c label.sk-toggleable__label-arrow:before {content: \"▸\";float: left;margin-right: 0.25em;color: #696969;}#sk-0efbf9b2-27e0-49b2-a988-143c3d26b49c label.sk-toggleable__label-arrow:hover:before {color: black;}#sk-0efbf9b2-27e0-49b2-a988-143c3d26b49c div.sk-estimator:hover label.sk-toggleable__label-arrow:before {color: black;}#sk-0efbf9b2-27e0-49b2-a988-143c3d26b49c div.sk-toggleable__content {max-height: 0;max-width: 0;overflow: hidden;text-align: left;background-color: #f0f8ff;}#sk-0efbf9b2-27e0-49b2-a988-143c3d26b49c div.sk-toggleable__content pre {margin: 0.2em;color: black;border-radius: 0.25em;background-color: #f0f8ff;}#sk-0efbf9b2-27e0-49b2-a988-143c3d26b49c input.sk-toggleable__control:checked~div.sk-toggleable__content {max-height: 200px;max-width: 100%;overflow: auto;}#sk-0efbf9b2-27e0-49b2-a988-143c3d26b49c input.sk-toggleable__control:checked~label.sk-toggleable__label-arrow:before {content: \"▾\";}#sk-0efbf9b2-27e0-49b2-a988-143c3d26b49c div.sk-estimator input.sk-toggleable__control:checked~label.sk-toggleable__label {background-color: #d4ebff;}#sk-0efbf9b2-27e0-49b2-a988-143c3d26b49c div.sk-label input.sk-toggleable__control:checked~label.sk-toggleable__label {background-color: #d4ebff;}#sk-0efbf9b2-27e0-49b2-a988-143c3d26b49c input.sk-hidden--visually {border: 0;clip: rect(1px 1px 1px 1px);clip: rect(1px, 1px, 1px, 1px);height: 1px;margin: -1px;overflow: hidden;padding: 0;position: absolute;width: 1px;}#sk-0efbf9b2-27e0-49b2-a988-143c3d26b49c div.sk-estimator {font-family: monospace;background-color: #f0f8ff;border: 1px dotted black;border-radius: 0.25em;box-sizing: border-box;margin-bottom: 0.5em;}#sk-0efbf9b2-27e0-49b2-a988-143c3d26b49c div.sk-estimator:hover {background-color: #d4ebff;}#sk-0efbf9b2-27e0-49b2-a988-143c3d26b49c div.sk-parallel-item::after {content: \"\";width: 100%;border-bottom: 1px solid gray;flex-grow: 1;}#sk-0efbf9b2-27e0-49b2-a988-143c3d26b49c div.sk-label:hover label.sk-toggleable__label {background-color: #d4ebff;}#sk-0efbf9b2-27e0-49b2-a988-143c3d26b49c div.sk-serial::before {content: \"\";position: absolute;border-left: 1px solid gray;box-sizing: border-box;top: 2em;bottom: 0;left: 50%;}#sk-0efbf9b2-27e0-49b2-a988-143c3d26b49c div.sk-serial {display: flex;flex-direction: column;align-items: center;background-color: white;padding-right: 0.2em;padding-left: 0.2em;}#sk-0efbf9b2-27e0-49b2-a988-143c3d26b49c div.sk-item {z-index: 1;}#sk-0efbf9b2-27e0-49b2-a988-143c3d26b49c div.sk-parallel {display: flex;align-items: stretch;justify-content: center;background-color: white;}#sk-0efbf9b2-27e0-49b2-a988-143c3d26b49c div.sk-parallel::before {content: \"\";position: absolute;border-left: 1px solid gray;box-sizing: border-box;top: 2em;bottom: 0;left: 50%;}#sk-0efbf9b2-27e0-49b2-a988-143c3d26b49c div.sk-parallel-item {display: flex;flex-direction: column;position: relative;background-color: white;}#sk-0efbf9b2-27e0-49b2-a988-143c3d26b49c div.sk-parallel-item:first-child::after {align-self: flex-end;width: 50%;}#sk-0efbf9b2-27e0-49b2-a988-143c3d26b49c div.sk-parallel-item:last-child::after {align-self: flex-start;width: 50%;}#sk-0efbf9b2-27e0-49b2-a988-143c3d26b49c div.sk-parallel-item:only-child::after {width: 0;}#sk-0efbf9b2-27e0-49b2-a988-143c3d26b49c div.sk-dashed-wrapped {border: 1px dashed gray;margin: 0 0.4em 0.5em 0.4em;box-sizing: border-box;padding-bottom: 0.4em;background-color: white;position: relative;}#sk-0efbf9b2-27e0-49b2-a988-143c3d26b49c div.sk-label label {font-family: monospace;font-weight: bold;background-color: white;display: inline-block;line-height: 1.2em;}#sk-0efbf9b2-27e0-49b2-a988-143c3d26b49c div.sk-label-container {position: relative;z-index: 2;text-align: center;}#sk-0efbf9b2-27e0-49b2-a988-143c3d26b49c div.sk-container {/* jupyter's `normalize.less` sets `[hidden] { display: none; }` but bootstrap.min.css set `[hidden] { display: none !important; }` so we also need the `!important` here to be able to override the default hidden behavior on the sphinx rendered scikit-learn.org. See: https://github.com/scikit-learn/scikit-learn/issues/21755 */display: inline-block !important;position: relative;}#sk-0efbf9b2-27e0-49b2-a988-143c3d26b49c div.sk-text-repr-fallback {display: none;}</style><div id=\"sk-0efbf9b2-27e0-49b2-a988-143c3d26b49c\" class=\"sk-top-container\"><div class=\"sk-text-repr-fallback\"><pre>LinearRegression()</pre><b>Please rerun this cell to show the HTML repr or trust the notebook.</b></div><div class=\"sk-container\" hidden><div class=\"sk-item\"><div class=\"sk-estimator sk-toggleable\"><input class=\"sk-toggleable__control sk-hidden--visually\" id=\"7b18a746-5d33-4554-8d99-41dc78e22533\" type=\"checkbox\" checked><label for=\"7b18a746-5d33-4554-8d99-41dc78e22533\" class=\"sk-toggleable__label sk-toggleable__label-arrow\">LinearRegression</label><div class=\"sk-toggleable__content\"><pre>LinearRegression()</pre></div></div></div></div></div>"
            ]
          },
          "metadata": {},
          "execution_count": 11
        }
      ]
    },
    {
      "cell_type": "markdown",
      "source": [
        "#7.Make Predictions"
      ],
      "metadata": {
        "id": "vw4zX1tkdnI0"
      }
    },
    {
      "cell_type": "code",
      "source": [
        "#use model to predict \n",
        "train_p = reg_model.predict(X_train)\n",
        "test_p = reg_model.predict(X_test )"
      ],
      "metadata": {
        "id": "8CUALSPsdqUX"
      },
      "execution_count": 12,
      "outputs": []
    },
    {
      "cell_type": "markdown",
      "source": [
        "Measuring model performance - using functions from metrics"
      ],
      "metadata": {
        "id": "f1NPpOA5fTJ6"
      }
    },
    {
      "cell_type": "code",
      "source": [
        "#print predictions\n",
        "print(f'Training Predictions\\n{train_p}\\n')\n",
        "print(f'Testing Predictions\\n{test_p}\\n')"
      ],
      "metadata": {
        "colab": {
          "base_uri": "https://localhost:8080/"
        },
        "id": "pi5lheL1fL5J",
        "outputId": "2a51451a-052d-4d8d-c063-9a409b8a5b1c"
      },
      "execution_count": 13,
      "outputs": [
        {
          "output_type": "stream",
          "name": "stdout",
          "text": [
            "Training Predictions\n",
            "[32.82681739 22.81651124 38.37794525 11.34324634 26.24547189 20.26823671\n",
            " 20.65258914 11.07740538 21.85015391 21.88399628 32.82675611 30.58450812\n",
            " 17.58676265 18.47398996 29.73764005 23.33008215 12.8199877   5.78933432\n",
            " 24.60114479 23.21183082 17.22557309 15.16199473 40.28253819 19.44488508\n",
            " 18.2291405  27.60884512 23.29520424 21.2167599  21.33352584 15.15140316\n",
            " 23.96675698 31.20874698  7.2287095  22.68072907 19.2071432  19.82476015\n",
            " 25.37452689 24.61976763 23.36971148 41.38980851 17.47494809 17.81758111\n",
            " 22.14362853 19.78407421 22.77137959 21.77024419 34.16091102 20.83339847\n",
            " 19.97605062 24.90617336 28.90914393 34.5491698  26.72498375  9.2690051\n",
            "  1.6840684  10.55667755 17.36623597 30.14460148 29.19929371 20.25439983\n",
            "  2.5487798  28.32977199 22.31517283 19.7556521  27.37155383 17.39358883\n",
            " 16.41178081 10.07992992 30.87754153 26.76685452 19.56084213 19.8796505\n",
            " 15.98168404 26.22350233 19.48138828 28.40432046 30.10032717 24.58509174\n",
            " 24.63658953 26.94636338 41.48903029 30.94049245 33.5922208  24.54392706\n",
            " 25.40578147 18.79755745 35.45982727 20.09587772 31.181485   27.05189015\n",
            " 19.18038183 20.95530497 11.00238929 33.94421467 36.43160536 33.46953688\n",
            "  2.97250287 18.86766805 20.78169617 36.90270694 17.03825201 20.71077088\n",
            " 24.16041801 26.64841798 13.78524793 21.794452   27.16654725 31.13361081\n",
            " 29.5809807  24.40622406 36.73216224 28.47053173 33.73537514 29.05195447\n",
            " 23.78038888 28.426191   14.30502142 20.22470852 24.56007186 22.30303702\n",
            "  0.40182472 20.23406053 27.55016549 21.20473133 18.68562637 24.25895591\n",
            " 14.34638996 32.8502796  29.04188676 35.50590906 18.36756262 20.03414832\n",
            " 17.77849137  9.21394923 14.96832001 26.72149364 13.60468976  6.65030576\n",
            " 23.78300775 13.51973368 28.59831802 31.38370646 37.00310253 30.3830214\n",
            " 18.27299365 29.65009384 36.64785873 22.8963761  17.90273864 27.65546548\n",
            " 18.73470366 16.73447332  8.24657191 22.17170727 20.04385694 26.52791463\n",
            " 28.60345461 16.79359588 26.83519111 14.57356171 14.55405562 30.80046317\n",
            " 20.79070962 14.65887484 21.69596842 20.39227184 20.82661355 24.52976919\n",
            " 30.28208361  6.10508547 20.25326872 30.91624197 15.60920906 28.29707646\n",
            " 24.73441407 19.26242734 16.24731787 38.07237318 26.62478326 24.76035767\n",
            " 16.84387016 33.53168009 35.54154447 39.40574039 20.44337285 19.22556868\n",
            " 22.93232167 38.29136446  3.85819153 21.61270272 15.58503056 28.34128366\n",
            " 11.51056575 19.75842989 -4.376637   17.71841328 17.40587302  9.01672448\n",
            " 23.59366328 15.15804866 28.50573081 39.32642389 27.91760383 25.53162026\n",
            " 35.113912   11.71028543 29.54518585 21.15971472 22.40239052 22.28112022\n",
            " 23.42654128 13.05031888 17.03693204 28.19255085 18.84417954 28.30329229\n",
            " 25.49945758 28.01025975 15.92481047 11.08189505 30.65203117 28.52533974\n",
            " 11.80866233 16.1014295  23.58825291 37.56114019 26.73829858 15.35877599\n",
            " 30.77539191 35.5196677  23.74298481 25.10010142 38.03757139 19.62902185\n",
            " 24.16025146 16.07288798 24.81000824 35.08705532 27.59516718 23.48596759\n",
            " 20.29939516 19.39913425 10.76960338 39.61390216 20.29747996 31.71609313\n",
            " 19.91375604 17.43403909 18.86065691 22.94599112 33.38979386 27.29039004\n",
            " 39.69702243 14.71359848 14.05152793 26.29379283 18.76959653 20.1569708\n",
            " 28.03926057 13.52975856 24.75094964 15.88406759 29.41674249 32.3587981\n",
            " 21.59181717 18.45880474 31.47622739 14.73619961 16.75797753 17.92222527\n",
            " 21.79829576 32.08219623 11.57504025 27.08169263 20.57595218 27.4375788\n",
            " 17.54938193 18.28875408 29.71492612 19.93424188 26.90671675 19.04451471\n",
            " 19.49198147 31.50218802 26.31238046 20.51142126 28.01892233 38.15573003\n",
            " 24.5100242  28.35793859 16.35552573 32.06747288 23.13395175 33.74644578\n",
            " 17.42643606 24.33443936 12.02795385 26.60299061 18.17729397 14.8595153\n",
            " 18.20904844 16.66206907 28.10993559 20.7479592  16.08642572 18.42390824\n",
            " 33.35944852 16.4991997  14.03847155 26.84503566 21.06097251 19.9092675\n",
            " 28.54025159 22.29277574 34.53702576 23.9683567  21.40017841 21.03968762\n",
            " 31.57248783  2.33099555 32.59275613 39.20122508 22.79998225 20.51707247\n",
            " 15.82521501 32.1061656  18.90852176 21.69224011 27.86209252 17.42514979\n",
            " 17.30151214 21.98345002 20.2356607  24.22775358 14.76998834 33.49773137\n",
            " 22.07166872 23.24252848 30.92900792 27.59701812 23.65253122  9.82963099\n",
            " 29.98501733 23.69758728 29.32949779 19.04660271 25.88208514 18.44669972\n",
            " 30.24357352 31.73987887 18.04026037 31.57434088  5.03907228 25.44442074\n",
            " 10.07807048 28.48474559 43.14060407 29.51358442 16.94300264 21.88461164\n",
            " 20.96912448 19.65862296 32.42035851 21.01589508 24.45125823 18.50310588\n",
            " 24.78507827  7.4213246  16.92456042 20.32325906 22.45377707 13.29102512\n",
            " 30.73614672 21.29769435 15.96035738 20.01183265 28.81234101 15.92861284\n",
            " 23.04474777]\n",
            "\n",
            "Testing Predictions\n",
            "[27.62669326 30.33816436 17.5160744  24.01379565 18.34283143 23.55189446\n",
            " 18.25793141 13.77750091 21.30641305 20.1589802  20.64058588 22.23624222\n",
            " -4.40252264 22.52876149 20.00870387 24.49699058 18.17089782  3.54571464\n",
            " 38.66316322 17.16546999 24.76391163 26.91931926 12.95282305 23.73623536\n",
            " 17.79460847 14.11437383 22.21396004 19.23616758 19.39405315 18.93299433\n",
            " 20.54627972 25.36422808 24.42934956 18.03251648 15.27564849 20.86513365\n",
            " 32.61147022 20.50926831 20.43915115 23.64684846 13.06436272 28.77352274\n",
            " 39.2294515  18.55457449 26.32831815 15.73407023 15.35650232 24.9450198\n",
            " 18.65080404 31.14904767 24.3737814  33.12118176 17.11439895 26.11402446\n",
            " 37.77531447 21.73277481 18.44716631 29.59388777 24.78386039 16.22421712\n",
            " 25.44476962 31.5193305  28.82410681 16.38461405 28.01091152 13.36895361\n",
            " 19.21951314 25.25764414 28.29217268 15.76194484 19.4310692  26.10226509\n",
            " 11.91043819 21.36439786 23.0550133   4.26659195 21.0914959  37.88224662\n",
            " 16.790994   11.44131026 22.2779786  10.34756729 23.74522724  7.25534777\n",
            " 22.76903427 28.45824047 20.69920529 25.56860132 25.5520258  20.70985756\n",
            " 24.10152472  6.61506089 21.35379547 20.62736453 11.22601961 22.27954019\n",
            " 22.60475094  0.23793393 17.82114772 17.70323251 21.08740001 24.47947791\n",
            "  9.00939729 20.58856293 24.809297   14.01045369 18.83845958 25.52687853\n",
            " 21.98675246 27.77161323 11.6831224  19.41187751 24.10547132 24.57006509\n",
            " 31.87655973 18.47996068 33.86882232 15.69263598 19.25623362 27.91412617\n",
            " 19.76281747 25.93604497  9.45185861 23.85151777 25.25144791 23.18566098\n",
            " 27.25264735]\n",
            "\n"
          ]
        }
      ]
    },
    {
      "cell_type": "markdown",
      "source": [
        "Finding R2"
      ],
      "metadata": {
        "id": "shRnV4g_fi08"
      }
    },
    {
      "cell_type": "code",
      "source": [
        "#find R2\n",
        "train_r2 = r2_score(y_train, train_p)\n",
        "test_r2 = r2_score(y_test, test_p)\n",
        "#print R2\n",
        "print(f'Training R2 - {train_r2}')\n",
        "print(f'Testing R2 - {test_r2}')"
      ],
      "metadata": {
        "colab": {
          "base_uri": "https://localhost:8080/"
        },
        "id": "ojSn0cb3fsqa",
        "outputId": "75d22ad6-c1d3-4d51-9b89-02f8ccde7292"
      },
      "execution_count": 14,
      "outputs": [
        {
          "output_type": "stream",
          "name": "stdout",
          "text": [
            "Training R2 - 0.6954015699310794\n",
            "Testing R2 - 0.6356314088765054\n"
          ]
        }
      ]
    },
    {
      "cell_type": "markdown",
      "source": [
        "###____I think there is not a big difference between the training data performance and the testing data performance.___"
      ],
      "metadata": {
        "id": "VE39e0dOf8KU"
      }
    },
    {
      "cell_type": "markdown",
      "source": [
        "Finding MAE"
      ],
      "metadata": {
        "id": "Pnv3mmQ2gW-m"
      }
    },
    {
      "cell_type": "code",
      "source": [
        "#find MAE\n",
        "train_MAE = mean_absolute_error(y_train, train_p)\n",
        "test_MAE = mean_absolute_error(y_test, test_p)\n",
        "#print MAE\n",
        "print(f'Training MAE - {train_MAE}')\n",
        "print(f'Testing MAE - {test_MAE}')"
      ],
      "metadata": {
        "colab": {
          "base_uri": "https://localhost:8080/"
        },
        "id": "lHeq5SPmgadH",
        "outputId": "147e058b-2eea-4162-fca6-b59bc35880e4"
      },
      "execution_count": 15,
      "outputs": [
        {
          "output_type": "stream",
          "name": "stdout",
          "text": [
            "Training MAE - 3.669619378415505\n",
            "Testing MAE - 3.335742737286131\n"
          ]
        }
      ]
    },
    {
      "cell_type": "markdown",
      "source": [
        "###___On average the training predictions are different than the actual and the by 3669 USD , On average the Testing predictions are different than the actual and the by 3335 USD___"
      ],
      "metadata": {
        "id": "UZ_DGWyujExu"
      }
    },
    {
      "cell_type": "markdown",
      "source": [
        "Finding MSE"
      ],
      "metadata": {
        "id": "LF00oxWakoew"
      }
    },
    {
      "cell_type": "code",
      "source": [
        "#find MSE\n",
        "train_MSE = mean_squared_error(y_train, train_p)\n",
        "test_MSE = mean_squared_error(y_test, test_p)\n",
        "#print MSE\n",
        "print(f'Training MSE - {train_MSE}')\n",
        "print(f'Testing MSE - {test_MSE}')"
      ],
      "metadata": {
        "colab": {
          "base_uri": "https://localhost:8080/"
        },
        "id": "zZ7dKgSpkf7g",
        "outputId": "b0e0b523-b2a9-4012-8136-e5250eab139d"
      },
      "execution_count": 16,
      "outputs": [
        {
          "output_type": "stream",
          "name": "stdout",
          "text": [
            "Training MSE - 27.012316202586668\n",
            "Testing MSE - 25.51569167371523\n"
          ]
        }
      ]
    },
    {
      "cell_type": "markdown",
      "source": [
        "These metrics are squared so they are difficult to interpret"
      ],
      "metadata": {
        "id": "sPklS1iClFG0"
      }
    },
    {
      "cell_type": "markdown",
      "source": [
        "Finding RMSE"
      ],
      "metadata": {
        "id": "5h_9cYcSlcpO"
      }
    },
    {
      "cell_type": "code",
      "source": [
        "#find RMSE\n",
        "train_RMSE = np.sqrt(train_MSE)\n",
        "test_RMSE = np.sqrt(test_MSE)\n",
        "#print RMSE\n",
        "print(f'Training RMSE - {train_RMSE}')\n",
        "print(f'Testing RMSE - {test_RMSE}')"
      ],
      "metadata": {
        "colab": {
          "base_uri": "https://localhost:8080/"
        },
        "id": "0G0c7-gQlHJb",
        "outputId": "86c8b030-68a4-4325-e75c-31f9c5f0f304"
      },
      "execution_count": 17,
      "outputs": [
        {
          "output_type": "stream",
          "name": "stdout",
          "text": [
            "Training RMSE - 5.197337414733305\n",
            "Testing RMSE - 5.051305937449763\n"
          ]
        }
      ]
    },
    {
      "cell_type": "markdown",
      "source": [
        "he average in training and testing data errors is of around 5000 USD"
      ],
      "metadata": {
        "id": "YgrQpYcpmn6h"
      }
    },
    {
      "cell_type": "markdown",
      "source": [
        "#Ensemble Trees Exercise (Core)\n",
        "\n",
        "Your task is to create the best possible model to predict house prices.\n",
        "\n",
        "1. Try a Decision Tree, Bagged Tree, and Random Forest.\n",
        "\n",
        "2. Tune each model to optimize performance on the test set.\n",
        "\n",
        "3. Evaluate your best model using multiple regression metrics.\n",
        "\n",
        "4. Explain in a text cell how your model will perform if deployed by referring to the metrics."
      ],
      "metadata": {
        "id": "LIAnH4bpFl0j"
      }
    },
    {
      "cell_type": "markdown",
      "source": [
        "##Creating Trees"
      ],
      "metadata": {
        "id": "dQLjbCJtGI77"
      }
    },
    {
      "cell_type": "markdown",
      "source": [
        "##Decision Tree Regressor"
      ],
      "metadata": {
        "id": "-HJTPRh_GL6t"
      }
    },
    {
      "cell_type": "code",
      "source": [
        "#create decision treee regressor\n",
        "dec_tree = DecisionTreeRegressor(random_state = 42)"
      ],
      "metadata": {
        "id": "uhhFRpU8lc55"
      },
      "execution_count": 18,
      "outputs": []
    },
    {
      "cell_type": "code",
      "source": [
        "#fit data\n",
        "dec_tree.fit(X_train, y_train)"
      ],
      "metadata": {
        "colab": {
          "base_uri": "https://localhost:8080/",
          "height": 75
        },
        "id": "RRKpciTNGItg",
        "outputId": "dd4423d1-4f41-4405-9b6a-e0bd9670c332"
      },
      "execution_count": 19,
      "outputs": [
        {
          "output_type": "execute_result",
          "data": {
            "text/plain": [
              "DecisionTreeRegressor(random_state=42)"
            ],
            "text/html": [
              "<style>#sk-35664591-f6fe-42ee-a21d-578c42e75fae {color: black;background-color: white;}#sk-35664591-f6fe-42ee-a21d-578c42e75fae pre{padding: 0;}#sk-35664591-f6fe-42ee-a21d-578c42e75fae div.sk-toggleable {background-color: white;}#sk-35664591-f6fe-42ee-a21d-578c42e75fae label.sk-toggleable__label {cursor: pointer;display: block;width: 100%;margin-bottom: 0;padding: 0.3em;box-sizing: border-box;text-align: center;}#sk-35664591-f6fe-42ee-a21d-578c42e75fae label.sk-toggleable__label-arrow:before {content: \"▸\";float: left;margin-right: 0.25em;color: #696969;}#sk-35664591-f6fe-42ee-a21d-578c42e75fae label.sk-toggleable__label-arrow:hover:before {color: black;}#sk-35664591-f6fe-42ee-a21d-578c42e75fae div.sk-estimator:hover label.sk-toggleable__label-arrow:before {color: black;}#sk-35664591-f6fe-42ee-a21d-578c42e75fae div.sk-toggleable__content {max-height: 0;max-width: 0;overflow: hidden;text-align: left;background-color: #f0f8ff;}#sk-35664591-f6fe-42ee-a21d-578c42e75fae div.sk-toggleable__content pre {margin: 0.2em;color: black;border-radius: 0.25em;background-color: #f0f8ff;}#sk-35664591-f6fe-42ee-a21d-578c42e75fae input.sk-toggleable__control:checked~div.sk-toggleable__content {max-height: 200px;max-width: 100%;overflow: auto;}#sk-35664591-f6fe-42ee-a21d-578c42e75fae input.sk-toggleable__control:checked~label.sk-toggleable__label-arrow:before {content: \"▾\";}#sk-35664591-f6fe-42ee-a21d-578c42e75fae div.sk-estimator input.sk-toggleable__control:checked~label.sk-toggleable__label {background-color: #d4ebff;}#sk-35664591-f6fe-42ee-a21d-578c42e75fae div.sk-label input.sk-toggleable__control:checked~label.sk-toggleable__label {background-color: #d4ebff;}#sk-35664591-f6fe-42ee-a21d-578c42e75fae input.sk-hidden--visually {border: 0;clip: rect(1px 1px 1px 1px);clip: rect(1px, 1px, 1px, 1px);height: 1px;margin: -1px;overflow: hidden;padding: 0;position: absolute;width: 1px;}#sk-35664591-f6fe-42ee-a21d-578c42e75fae div.sk-estimator {font-family: monospace;background-color: #f0f8ff;border: 1px dotted black;border-radius: 0.25em;box-sizing: border-box;margin-bottom: 0.5em;}#sk-35664591-f6fe-42ee-a21d-578c42e75fae div.sk-estimator:hover {background-color: #d4ebff;}#sk-35664591-f6fe-42ee-a21d-578c42e75fae div.sk-parallel-item::after {content: \"\";width: 100%;border-bottom: 1px solid gray;flex-grow: 1;}#sk-35664591-f6fe-42ee-a21d-578c42e75fae div.sk-label:hover label.sk-toggleable__label {background-color: #d4ebff;}#sk-35664591-f6fe-42ee-a21d-578c42e75fae div.sk-serial::before {content: \"\";position: absolute;border-left: 1px solid gray;box-sizing: border-box;top: 2em;bottom: 0;left: 50%;}#sk-35664591-f6fe-42ee-a21d-578c42e75fae div.sk-serial {display: flex;flex-direction: column;align-items: center;background-color: white;padding-right: 0.2em;padding-left: 0.2em;}#sk-35664591-f6fe-42ee-a21d-578c42e75fae div.sk-item {z-index: 1;}#sk-35664591-f6fe-42ee-a21d-578c42e75fae div.sk-parallel {display: flex;align-items: stretch;justify-content: center;background-color: white;}#sk-35664591-f6fe-42ee-a21d-578c42e75fae div.sk-parallel::before {content: \"\";position: absolute;border-left: 1px solid gray;box-sizing: border-box;top: 2em;bottom: 0;left: 50%;}#sk-35664591-f6fe-42ee-a21d-578c42e75fae div.sk-parallel-item {display: flex;flex-direction: column;position: relative;background-color: white;}#sk-35664591-f6fe-42ee-a21d-578c42e75fae div.sk-parallel-item:first-child::after {align-self: flex-end;width: 50%;}#sk-35664591-f6fe-42ee-a21d-578c42e75fae div.sk-parallel-item:last-child::after {align-self: flex-start;width: 50%;}#sk-35664591-f6fe-42ee-a21d-578c42e75fae div.sk-parallel-item:only-child::after {width: 0;}#sk-35664591-f6fe-42ee-a21d-578c42e75fae div.sk-dashed-wrapped {border: 1px dashed gray;margin: 0 0.4em 0.5em 0.4em;box-sizing: border-box;padding-bottom: 0.4em;background-color: white;position: relative;}#sk-35664591-f6fe-42ee-a21d-578c42e75fae div.sk-label label {font-family: monospace;font-weight: bold;background-color: white;display: inline-block;line-height: 1.2em;}#sk-35664591-f6fe-42ee-a21d-578c42e75fae div.sk-label-container {position: relative;z-index: 2;text-align: center;}#sk-35664591-f6fe-42ee-a21d-578c42e75fae div.sk-container {/* jupyter's `normalize.less` sets `[hidden] { display: none; }` but bootstrap.min.css set `[hidden] { display: none !important; }` so we also need the `!important` here to be able to override the default hidden behavior on the sphinx rendered scikit-learn.org. See: https://github.com/scikit-learn/scikit-learn/issues/21755 */display: inline-block !important;position: relative;}#sk-35664591-f6fe-42ee-a21d-578c42e75fae div.sk-text-repr-fallback {display: none;}</style><div id=\"sk-35664591-f6fe-42ee-a21d-578c42e75fae\" class=\"sk-top-container\"><div class=\"sk-text-repr-fallback\"><pre>DecisionTreeRegressor(random_state=42)</pre><b>Please rerun this cell to show the HTML repr or trust the notebook.</b></div><div class=\"sk-container\" hidden><div class=\"sk-item\"><div class=\"sk-estimator sk-toggleable\"><input class=\"sk-toggleable__control sk-hidden--visually\" id=\"b989a785-8afe-418f-9a7f-bc015fecf9a5\" type=\"checkbox\" checked><label for=\"b989a785-8afe-418f-9a7f-bc015fecf9a5\" class=\"sk-toggleable__label sk-toggleable__label-arrow\">DecisionTreeRegressor</label><div class=\"sk-toggleable__content\"><pre>DecisionTreeRegressor(random_state=42)</pre></div></div></div></div></div>"
            ]
          },
          "metadata": {},
          "execution_count": 19
        }
      ]
    },
    {
      "cell_type": "code",
      "source": [
        "#make predictions\n",
        "train_p = dec_tree.predict(X_train)\n",
        "test_p = dec_tree.predict(X_test)"
      ],
      "metadata": {
        "id": "xBMdWdtwGg5m"
      },
      "execution_count": 20,
      "outputs": []
    },
    {
      "cell_type": "code",
      "source": [
        "train_score = dec_tree.score(X_train, y_train)\n",
        "test_score = dec_tree.score(X_test, y_test)\n",
        "print(train_score)\n",
        "print(test_score)"
      ],
      "metadata": {
        "colab": {
          "base_uri": "https://localhost:8080/"
        },
        "id": "s_TjcevvGlQZ",
        "outputId": "0f5cf2ea-fa22-41c0-a5e2-330162c0c034"
      },
      "execution_count": 21,
      "outputs": [
        {
          "output_type": "stream",
          "name": "stdout",
          "text": [
            "1.0\n",
            "0.6193230918136841\n"
          ]
        }
      ]
    },
    {
      "cell_type": "markdown",
      "source": [
        "The decision tree have the top score but the test score very low. The data was overfitted We need to change the parameters of the tree to get a better score."
      ],
      "metadata": {
        "id": "pvd7avJGGwgG"
      }
    },
    {
      "cell_type": "code",
      "source": [
        "#get parameters\n",
        "dec_tree.get_params()"
      ],
      "metadata": {
        "colab": {
          "base_uri": "https://localhost:8080/"
        },
        "id": "VRh9dI3WHHsx",
        "outputId": "7caa956a-423e-4961-ee8c-86834e06ecd3"
      },
      "execution_count": 22,
      "outputs": [
        {
          "output_type": "execute_result",
          "data": {
            "text/plain": [
              "{'ccp_alpha': 0.0,\n",
              " 'criterion': 'squared_error',\n",
              " 'max_depth': None,\n",
              " 'max_features': None,\n",
              " 'max_leaf_nodes': None,\n",
              " 'min_impurity_decrease': 0.0,\n",
              " 'min_samples_leaf': 1,\n",
              " 'min_samples_split': 2,\n",
              " 'min_weight_fraction_leaf': 0.0,\n",
              " 'random_state': 42,\n",
              " 'splitter': 'best'}"
            ]
          },
          "metadata": {},
          "execution_count": 22
        }
      ]
    },
    {
      "cell_type": "code",
      "source": [
        "#get depth\n",
        "dec_tree.get_depth()"
      ],
      "metadata": {
        "colab": {
          "base_uri": "https://localhost:8080/"
        },
        "id": "VWhGeU61HTp8",
        "outputId": "6f30aa16-e6f6-405a-8891-1934a6249db6"
      },
      "execution_count": 23,
      "outputs": [
        {
          "output_type": "execute_result",
          "data": {
            "text/plain": [
              "20"
            ]
          },
          "metadata": {},
          "execution_count": 23
        }
      ]
    },
    {
      "cell_type": "markdown",
      "source": [
        "we need to lower depths to make the best model."
      ],
      "metadata": {
        "id": "yH18_B5UHU1s"
      }
    },
    {
      "cell_type": "code",
      "source": [
        "#iterate through all depths and find the highest test score\n",
        "depths = list(range(2, 20))\n",
        "scores = pd.DataFrame(index=depths, columns=['Test Score','Train Score'])\n",
        "for depth in depths:\n",
        "  dec_tree = DecisionTreeRegressor(max_depth=depth, random_state=42)\n",
        "  dec_tree.fit(X_train, y_train)\n",
        "  train_score = dec_tree.score(X_train, y_train)\n",
        "  test_score = dec_tree.score(X_test, y_test)\n",
        "  scores.loc[depth, 'Train Score'] = train_score\n",
        "  scores.loc[depth, 'Test Score'] = test_score\n",
        "sorted_scores = scores.sort_values(by='Test Score', ascending=False)\n",
        "print(sorted_scores.head())"
      ],
      "metadata": {
        "colab": {
          "base_uri": "https://localhost:8080/"
        },
        "id": "VkOU-_XiHhEZ",
        "outputId": "af43950c-769a-4050-c9fb-a764fcebc1a6"
      },
      "execution_count": 24,
      "outputs": [
        {
          "output_type": "stream",
          "name": "stdout",
          "text": [
            "   Test Score Train Score\n",
            "7    0.846377    0.958517\n",
            "10    0.84601    0.986796\n",
            "11   0.829736      0.9911\n",
            "12   0.827102    0.995358\n",
            "6    0.825985    0.942742\n"
          ]
        }
      ]
    },
    {
      "cell_type": "markdown",
      "source": [
        "##Bagged Tree"
      ],
      "metadata": {
        "id": "4ppeLHbvH5X5"
      }
    },
    {
      "cell_type": "code",
      "source": [
        "#create bagged tree\n",
        "bagreg = BaggingRegressor(random_state = 42)"
      ],
      "metadata": {
        "id": "SQGlm9uTHpUm"
      },
      "execution_count": 27,
      "outputs": []
    },
    {
      "cell_type": "code",
      "source": [
        "#fit model\n",
        "bagreg.fit(X_train, y_train)"
      ],
      "metadata": {
        "colab": {
          "base_uri": "https://localhost:8080/",
          "height": 75
        },
        "id": "Eam7FX9eIQgZ",
        "outputId": "64ca1792-5931-49e2-b837-3cfff86852bd"
      },
      "execution_count": 28,
      "outputs": [
        {
          "output_type": "execute_result",
          "data": {
            "text/plain": [
              "BaggingRegressor(random_state=42)"
            ],
            "text/html": [
              "<style>#sk-fd0b39be-7465-480b-b06b-5236e33a20a4 {color: black;background-color: white;}#sk-fd0b39be-7465-480b-b06b-5236e33a20a4 pre{padding: 0;}#sk-fd0b39be-7465-480b-b06b-5236e33a20a4 div.sk-toggleable {background-color: white;}#sk-fd0b39be-7465-480b-b06b-5236e33a20a4 label.sk-toggleable__label {cursor: pointer;display: block;width: 100%;margin-bottom: 0;padding: 0.3em;box-sizing: border-box;text-align: center;}#sk-fd0b39be-7465-480b-b06b-5236e33a20a4 label.sk-toggleable__label-arrow:before {content: \"▸\";float: left;margin-right: 0.25em;color: #696969;}#sk-fd0b39be-7465-480b-b06b-5236e33a20a4 label.sk-toggleable__label-arrow:hover:before {color: black;}#sk-fd0b39be-7465-480b-b06b-5236e33a20a4 div.sk-estimator:hover label.sk-toggleable__label-arrow:before {color: black;}#sk-fd0b39be-7465-480b-b06b-5236e33a20a4 div.sk-toggleable__content {max-height: 0;max-width: 0;overflow: hidden;text-align: left;background-color: #f0f8ff;}#sk-fd0b39be-7465-480b-b06b-5236e33a20a4 div.sk-toggleable__content pre {margin: 0.2em;color: black;border-radius: 0.25em;background-color: #f0f8ff;}#sk-fd0b39be-7465-480b-b06b-5236e33a20a4 input.sk-toggleable__control:checked~div.sk-toggleable__content {max-height: 200px;max-width: 100%;overflow: auto;}#sk-fd0b39be-7465-480b-b06b-5236e33a20a4 input.sk-toggleable__control:checked~label.sk-toggleable__label-arrow:before {content: \"▾\";}#sk-fd0b39be-7465-480b-b06b-5236e33a20a4 div.sk-estimator input.sk-toggleable__control:checked~label.sk-toggleable__label {background-color: #d4ebff;}#sk-fd0b39be-7465-480b-b06b-5236e33a20a4 div.sk-label input.sk-toggleable__control:checked~label.sk-toggleable__label {background-color: #d4ebff;}#sk-fd0b39be-7465-480b-b06b-5236e33a20a4 input.sk-hidden--visually {border: 0;clip: rect(1px 1px 1px 1px);clip: rect(1px, 1px, 1px, 1px);height: 1px;margin: -1px;overflow: hidden;padding: 0;position: absolute;width: 1px;}#sk-fd0b39be-7465-480b-b06b-5236e33a20a4 div.sk-estimator {font-family: monospace;background-color: #f0f8ff;border: 1px dotted black;border-radius: 0.25em;box-sizing: border-box;margin-bottom: 0.5em;}#sk-fd0b39be-7465-480b-b06b-5236e33a20a4 div.sk-estimator:hover {background-color: #d4ebff;}#sk-fd0b39be-7465-480b-b06b-5236e33a20a4 div.sk-parallel-item::after {content: \"\";width: 100%;border-bottom: 1px solid gray;flex-grow: 1;}#sk-fd0b39be-7465-480b-b06b-5236e33a20a4 div.sk-label:hover label.sk-toggleable__label {background-color: #d4ebff;}#sk-fd0b39be-7465-480b-b06b-5236e33a20a4 div.sk-serial::before {content: \"\";position: absolute;border-left: 1px solid gray;box-sizing: border-box;top: 2em;bottom: 0;left: 50%;}#sk-fd0b39be-7465-480b-b06b-5236e33a20a4 div.sk-serial {display: flex;flex-direction: column;align-items: center;background-color: white;padding-right: 0.2em;padding-left: 0.2em;}#sk-fd0b39be-7465-480b-b06b-5236e33a20a4 div.sk-item {z-index: 1;}#sk-fd0b39be-7465-480b-b06b-5236e33a20a4 div.sk-parallel {display: flex;align-items: stretch;justify-content: center;background-color: white;}#sk-fd0b39be-7465-480b-b06b-5236e33a20a4 div.sk-parallel::before {content: \"\";position: absolute;border-left: 1px solid gray;box-sizing: border-box;top: 2em;bottom: 0;left: 50%;}#sk-fd0b39be-7465-480b-b06b-5236e33a20a4 div.sk-parallel-item {display: flex;flex-direction: column;position: relative;background-color: white;}#sk-fd0b39be-7465-480b-b06b-5236e33a20a4 div.sk-parallel-item:first-child::after {align-self: flex-end;width: 50%;}#sk-fd0b39be-7465-480b-b06b-5236e33a20a4 div.sk-parallel-item:last-child::after {align-self: flex-start;width: 50%;}#sk-fd0b39be-7465-480b-b06b-5236e33a20a4 div.sk-parallel-item:only-child::after {width: 0;}#sk-fd0b39be-7465-480b-b06b-5236e33a20a4 div.sk-dashed-wrapped {border: 1px dashed gray;margin: 0 0.4em 0.5em 0.4em;box-sizing: border-box;padding-bottom: 0.4em;background-color: white;position: relative;}#sk-fd0b39be-7465-480b-b06b-5236e33a20a4 div.sk-label label {font-family: monospace;font-weight: bold;background-color: white;display: inline-block;line-height: 1.2em;}#sk-fd0b39be-7465-480b-b06b-5236e33a20a4 div.sk-label-container {position: relative;z-index: 2;text-align: center;}#sk-fd0b39be-7465-480b-b06b-5236e33a20a4 div.sk-container {/* jupyter's `normalize.less` sets `[hidden] { display: none; }` but bootstrap.min.css set `[hidden] { display: none !important; }` so we also need the `!important` here to be able to override the default hidden behavior on the sphinx rendered scikit-learn.org. See: https://github.com/scikit-learn/scikit-learn/issues/21755 */display: inline-block !important;position: relative;}#sk-fd0b39be-7465-480b-b06b-5236e33a20a4 div.sk-text-repr-fallback {display: none;}</style><div id=\"sk-fd0b39be-7465-480b-b06b-5236e33a20a4\" class=\"sk-top-container\"><div class=\"sk-text-repr-fallback\"><pre>BaggingRegressor(random_state=42)</pre><b>Please rerun this cell to show the HTML repr or trust the notebook.</b></div><div class=\"sk-container\" hidden><div class=\"sk-item\"><div class=\"sk-estimator sk-toggleable\"><input class=\"sk-toggleable__control sk-hidden--visually\" id=\"e6640efc-ae17-46c2-a3e6-a225e88c00e7\" type=\"checkbox\" checked><label for=\"e6640efc-ae17-46c2-a3e6-a225e88c00e7\" class=\"sk-toggleable__label sk-toggleable__label-arrow\">BaggingRegressor</label><div class=\"sk-toggleable__content\"><pre>BaggingRegressor(random_state=42)</pre></div></div></div></div></div>"
            ]
          },
          "metadata": {},
          "execution_count": 28
        }
      ]
    },
    {
      "cell_type": "code",
      "source": [
        "#make predictions\n",
        "train_p = bagreg.predict(X_train)\n",
        "test_p = bagreg.predict(X_test)"
      ],
      "metadata": {
        "id": "lOAGotl3IZqC"
      },
      "execution_count": 29,
      "outputs": []
    },
    {
      "cell_type": "code",
      "source": [
        "#get parameters\n",
        "bagreg.get_params()"
      ],
      "metadata": {
        "colab": {
          "base_uri": "https://localhost:8080/"
        },
        "id": "OeKyJLxxIdmv",
        "outputId": "9bbd5e55-33c7-4673-df3a-d176008fa39c"
      },
      "execution_count": 30,
      "outputs": [
        {
          "output_type": "execute_result",
          "data": {
            "text/plain": [
              "{'base_estimator': None,\n",
              " 'bootstrap': True,\n",
              " 'bootstrap_features': False,\n",
              " 'max_features': 1.0,\n",
              " 'max_samples': 1.0,\n",
              " 'n_estimators': 10,\n",
              " 'n_jobs': None,\n",
              " 'oob_score': False,\n",
              " 'random_state': 42,\n",
              " 'verbose': 0,\n",
              " 'warm_start': False}"
            ]
          },
          "metadata": {},
          "execution_count": 30
        }
      ]
    },
    {
      "cell_type": "code",
      "source": [
        "#get scores\n",
        "bagreg_train_score = bagreg.score(X_train, y_train)\n",
        "bagreg_test_score = bagreg.score(X_test, y_test)\n",
        "print(bagreg_train_score)\n",
        "print(bagreg_test_score)"
      ],
      "metadata": {
        "colab": {
          "base_uri": "https://localhost:8080/"
        },
        "id": "Z8xHAL9sIjmg",
        "outputId": "04599e6e-643b-45a7-933f-b1f6cfe99bce"
      },
      "execution_count": 31,
      "outputs": [
        {
          "output_type": "stream",
          "name": "stdout",
          "text": [
            "0.9606756023782893\n",
            "0.8204208271364619\n"
          ]
        }
      ]
    },
    {
      "cell_type": "markdown",
      "source": [
        "The test score is higher in this model, but the train score is still high, meaning that the model is still overfitted."
      ],
      "metadata": {
        "id": "BA8XPADqJeZ4"
      }
    },
    {
      "cell_type": "code",
      "source": [
        "#iterate through estimators to find best test score\n",
        "estimators = [10, 20, 30, 40, 50, 100]\n",
        "scores = pd.DataFrame(index=estimators, columns=['Train Score', 'Test Score'])\n",
        "for num_estimators in estimators:\n",
        "   bag_reg = BaggingRegressor(n_estimators=num_estimators, random_state=42)\n",
        "   bag_reg.fit(X_train, y_train)\n",
        "   train_score = bag_reg.score(X_train, y_train)\n",
        "   test_score = bag_reg.score(X_test, y_test)\n",
        "   scores.loc[num_estimators, 'Train Score'] = train_score\n",
        "   scores.loc[num_estimators, 'Test Score'] = test_score\n",
        "scores = scores.sort_values(by='Test Score', ascending=False)\n",
        "scores"
      ],
      "metadata": {
        "colab": {
          "base_uri": "https://localhost:8080/",
          "height": 237
        },
        "id": "nKTSLYZVJ_dG",
        "outputId": "c2f18e8f-c587-42ad-f1ef-2d514ed2a7a7"
      },
      "execution_count": 32,
      "outputs": [
        {
          "output_type": "execute_result",
          "data": {
            "text/plain": [
              "    Train Score Test Score\n",
              "40      0.97395   0.834365\n",
              "50     0.975185    0.83391\n",
              "100    0.977246   0.833051\n",
              "20       0.9701   0.831147\n",
              "30     0.973401   0.830604\n",
              "10     0.960676   0.820421"
            ],
            "text/html": [
              "\n",
              "  <div id=\"df-c3c20459-be56-400b-98dc-e7d8ab95dd56\">\n",
              "    <div class=\"colab-df-container\">\n",
              "      <div>\n",
              "<style scoped>\n",
              "    .dataframe tbody tr th:only-of-type {\n",
              "        vertical-align: middle;\n",
              "    }\n",
              "\n",
              "    .dataframe tbody tr th {\n",
              "        vertical-align: top;\n",
              "    }\n",
              "\n",
              "    .dataframe thead th {\n",
              "        text-align: right;\n",
              "    }\n",
              "</style>\n",
              "<table border=\"1\" class=\"dataframe\">\n",
              "  <thead>\n",
              "    <tr style=\"text-align: right;\">\n",
              "      <th></th>\n",
              "      <th>Train Score</th>\n",
              "      <th>Test Score</th>\n",
              "    </tr>\n",
              "  </thead>\n",
              "  <tbody>\n",
              "    <tr>\n",
              "      <th>40</th>\n",
              "      <td>0.97395</td>\n",
              "      <td>0.834365</td>\n",
              "    </tr>\n",
              "    <tr>\n",
              "      <th>50</th>\n",
              "      <td>0.975185</td>\n",
              "      <td>0.83391</td>\n",
              "    </tr>\n",
              "    <tr>\n",
              "      <th>100</th>\n",
              "      <td>0.977246</td>\n",
              "      <td>0.833051</td>\n",
              "    </tr>\n",
              "    <tr>\n",
              "      <th>20</th>\n",
              "      <td>0.9701</td>\n",
              "      <td>0.831147</td>\n",
              "    </tr>\n",
              "    <tr>\n",
              "      <th>30</th>\n",
              "      <td>0.973401</td>\n",
              "      <td>0.830604</td>\n",
              "    </tr>\n",
              "    <tr>\n",
              "      <th>10</th>\n",
              "      <td>0.960676</td>\n",
              "      <td>0.820421</td>\n",
              "    </tr>\n",
              "  </tbody>\n",
              "</table>\n",
              "</div>\n",
              "      <button class=\"colab-df-convert\" onclick=\"convertToInteractive('df-c3c20459-be56-400b-98dc-e7d8ab95dd56')\"\n",
              "              title=\"Convert this dataframe to an interactive table.\"\n",
              "              style=\"display:none;\">\n",
              "        \n",
              "  <svg xmlns=\"http://www.w3.org/2000/svg\" height=\"24px\"viewBox=\"0 0 24 24\"\n",
              "       width=\"24px\">\n",
              "    <path d=\"M0 0h24v24H0V0z\" fill=\"none\"/>\n",
              "    <path d=\"M18.56 5.44l.94 2.06.94-2.06 2.06-.94-2.06-.94-.94-2.06-.94 2.06-2.06.94zm-11 1L8.5 8.5l.94-2.06 2.06-.94-2.06-.94L8.5 2.5l-.94 2.06-2.06.94zm10 10l.94 2.06.94-2.06 2.06-.94-2.06-.94-.94-2.06-.94 2.06-2.06.94z\"/><path d=\"M17.41 7.96l-1.37-1.37c-.4-.4-.92-.59-1.43-.59-.52 0-1.04.2-1.43.59L10.3 9.45l-7.72 7.72c-.78.78-.78 2.05 0 2.83L4 21.41c.39.39.9.59 1.41.59.51 0 1.02-.2 1.41-.59l7.78-7.78 2.81-2.81c.8-.78.8-2.07 0-2.86zM5.41 20L4 18.59l7.72-7.72 1.47 1.35L5.41 20z\"/>\n",
              "  </svg>\n",
              "      </button>\n",
              "      \n",
              "  <style>\n",
              "    .colab-df-container {\n",
              "      display:flex;\n",
              "      flex-wrap:wrap;\n",
              "      gap: 12px;\n",
              "    }\n",
              "\n",
              "    .colab-df-convert {\n",
              "      background-color: #E8F0FE;\n",
              "      border: none;\n",
              "      border-radius: 50%;\n",
              "      cursor: pointer;\n",
              "      display: none;\n",
              "      fill: #1967D2;\n",
              "      height: 32px;\n",
              "      padding: 0 0 0 0;\n",
              "      width: 32px;\n",
              "    }\n",
              "\n",
              "    .colab-df-convert:hover {\n",
              "      background-color: #E2EBFA;\n",
              "      box-shadow: 0px 1px 2px rgba(60, 64, 67, 0.3), 0px 1px 3px 1px rgba(60, 64, 67, 0.15);\n",
              "      fill: #174EA6;\n",
              "    }\n",
              "\n",
              "    [theme=dark] .colab-df-convert {\n",
              "      background-color: #3B4455;\n",
              "      fill: #D2E3FC;\n",
              "    }\n",
              "\n",
              "    [theme=dark] .colab-df-convert:hover {\n",
              "      background-color: #434B5C;\n",
              "      box-shadow: 0px 1px 3px 1px rgba(0, 0, 0, 0.15);\n",
              "      filter: drop-shadow(0px 1px 2px rgba(0, 0, 0, 0.3));\n",
              "      fill: #FFFFFF;\n",
              "    }\n",
              "  </style>\n",
              "\n",
              "      <script>\n",
              "        const buttonEl =\n",
              "          document.querySelector('#df-c3c20459-be56-400b-98dc-e7d8ab95dd56 button.colab-df-convert');\n",
              "        buttonEl.style.display =\n",
              "          google.colab.kernel.accessAllowed ? 'block' : 'none';\n",
              "\n",
              "        async function convertToInteractive(key) {\n",
              "          const element = document.querySelector('#df-c3c20459-be56-400b-98dc-e7d8ab95dd56');\n",
              "          const dataTable =\n",
              "            await google.colab.kernel.invokeFunction('convertToInteractive',\n",
              "                                                     [key], {});\n",
              "          if (!dataTable) return;\n",
              "\n",
              "          const docLinkHtml = 'Like what you see? Visit the ' +\n",
              "            '<a target=\"_blank\" href=https://colab.research.google.com/notebooks/data_table.ipynb>data table notebook</a>'\n",
              "            + ' to learn more about interactive tables.';\n",
              "          element.innerHTML = '';\n",
              "          dataTable['output_type'] = 'display_data';\n",
              "          await google.colab.output.renderOutput(dataTable, element);\n",
              "          const docLink = document.createElement('div');\n",
              "          docLink.innerHTML = docLinkHtml;\n",
              "          element.appendChild(docLink);\n",
              "        }\n",
              "      </script>\n",
              "    </div>\n",
              "  </div>\n",
              "  "
            ]
          },
          "metadata": {},
          "execution_count": 32
        }
      ]
    },
    {
      "cell_type": "markdown",
      "source": [
        "the training score is higher , but the test score is less "
      ],
      "metadata": {
        "id": "_8zGooT2KJOt"
      }
    },
    {
      "cell_type": "markdown",
      "source": [
        "##Random Forest"
      ],
      "metadata": {
        "id": "Eoo_eM4uKaE5"
      }
    },
    {
      "cell_type": "code",
      "source": [
        "#create random forest\n",
        "rf = RandomForestRegressor(random_state = 42)"
      ],
      "metadata": {
        "id": "3iarOnJYKBak"
      },
      "execution_count": 33,
      "outputs": []
    },
    {
      "cell_type": "code",
      "source": [
        "# get parameters\n",
        "rf.get_params()"
      ],
      "metadata": {
        "colab": {
          "base_uri": "https://localhost:8080/"
        },
        "id": "T3mOEyJ-KhoZ",
        "outputId": "705cb4bd-4c2c-4e0a-87ba-84c4a6e38a95"
      },
      "execution_count": 34,
      "outputs": [
        {
          "output_type": "execute_result",
          "data": {
            "text/plain": [
              "{'bootstrap': True,\n",
              " 'ccp_alpha': 0.0,\n",
              " 'criterion': 'squared_error',\n",
              " 'max_depth': None,\n",
              " 'max_features': 'auto',\n",
              " 'max_leaf_nodes': None,\n",
              " 'max_samples': None,\n",
              " 'min_impurity_decrease': 0.0,\n",
              " 'min_samples_leaf': 1,\n",
              " 'min_samples_split': 2,\n",
              " 'min_weight_fraction_leaf': 0.0,\n",
              " 'n_estimators': 100,\n",
              " 'n_jobs': None,\n",
              " 'oob_score': False,\n",
              " 'random_state': 42,\n",
              " 'verbose': 0,\n",
              " 'warm_start': False}"
            ]
          },
          "metadata": {},
          "execution_count": 34
        }
      ]
    },
    {
      "cell_type": "code",
      "source": [
        "#fit data\n",
        "rf.fit(X_train, y_train)"
      ],
      "metadata": {
        "colab": {
          "base_uri": "https://localhost:8080/",
          "height": 75
        },
        "id": "zV8oouYIKuuC",
        "outputId": "96270792-6bf2-4975-af50-23e78bd36495"
      },
      "execution_count": 35,
      "outputs": [
        {
          "output_type": "execute_result",
          "data": {
            "text/plain": [
              "RandomForestRegressor(random_state=42)"
            ],
            "text/html": [
              "<style>#sk-903217eb-26e6-41db-8f22-3568752258b3 {color: black;background-color: white;}#sk-903217eb-26e6-41db-8f22-3568752258b3 pre{padding: 0;}#sk-903217eb-26e6-41db-8f22-3568752258b3 div.sk-toggleable {background-color: white;}#sk-903217eb-26e6-41db-8f22-3568752258b3 label.sk-toggleable__label {cursor: pointer;display: block;width: 100%;margin-bottom: 0;padding: 0.3em;box-sizing: border-box;text-align: center;}#sk-903217eb-26e6-41db-8f22-3568752258b3 label.sk-toggleable__label-arrow:before {content: \"▸\";float: left;margin-right: 0.25em;color: #696969;}#sk-903217eb-26e6-41db-8f22-3568752258b3 label.sk-toggleable__label-arrow:hover:before {color: black;}#sk-903217eb-26e6-41db-8f22-3568752258b3 div.sk-estimator:hover label.sk-toggleable__label-arrow:before {color: black;}#sk-903217eb-26e6-41db-8f22-3568752258b3 div.sk-toggleable__content {max-height: 0;max-width: 0;overflow: hidden;text-align: left;background-color: #f0f8ff;}#sk-903217eb-26e6-41db-8f22-3568752258b3 div.sk-toggleable__content pre {margin: 0.2em;color: black;border-radius: 0.25em;background-color: #f0f8ff;}#sk-903217eb-26e6-41db-8f22-3568752258b3 input.sk-toggleable__control:checked~div.sk-toggleable__content {max-height: 200px;max-width: 100%;overflow: auto;}#sk-903217eb-26e6-41db-8f22-3568752258b3 input.sk-toggleable__control:checked~label.sk-toggleable__label-arrow:before {content: \"▾\";}#sk-903217eb-26e6-41db-8f22-3568752258b3 div.sk-estimator input.sk-toggleable__control:checked~label.sk-toggleable__label {background-color: #d4ebff;}#sk-903217eb-26e6-41db-8f22-3568752258b3 div.sk-label input.sk-toggleable__control:checked~label.sk-toggleable__label {background-color: #d4ebff;}#sk-903217eb-26e6-41db-8f22-3568752258b3 input.sk-hidden--visually {border: 0;clip: rect(1px 1px 1px 1px);clip: rect(1px, 1px, 1px, 1px);height: 1px;margin: -1px;overflow: hidden;padding: 0;position: absolute;width: 1px;}#sk-903217eb-26e6-41db-8f22-3568752258b3 div.sk-estimator {font-family: monospace;background-color: #f0f8ff;border: 1px dotted black;border-radius: 0.25em;box-sizing: border-box;margin-bottom: 0.5em;}#sk-903217eb-26e6-41db-8f22-3568752258b3 div.sk-estimator:hover {background-color: #d4ebff;}#sk-903217eb-26e6-41db-8f22-3568752258b3 div.sk-parallel-item::after {content: \"\";width: 100%;border-bottom: 1px solid gray;flex-grow: 1;}#sk-903217eb-26e6-41db-8f22-3568752258b3 div.sk-label:hover label.sk-toggleable__label {background-color: #d4ebff;}#sk-903217eb-26e6-41db-8f22-3568752258b3 div.sk-serial::before {content: \"\";position: absolute;border-left: 1px solid gray;box-sizing: border-box;top: 2em;bottom: 0;left: 50%;}#sk-903217eb-26e6-41db-8f22-3568752258b3 div.sk-serial {display: flex;flex-direction: column;align-items: center;background-color: white;padding-right: 0.2em;padding-left: 0.2em;}#sk-903217eb-26e6-41db-8f22-3568752258b3 div.sk-item {z-index: 1;}#sk-903217eb-26e6-41db-8f22-3568752258b3 div.sk-parallel {display: flex;align-items: stretch;justify-content: center;background-color: white;}#sk-903217eb-26e6-41db-8f22-3568752258b3 div.sk-parallel::before {content: \"\";position: absolute;border-left: 1px solid gray;box-sizing: border-box;top: 2em;bottom: 0;left: 50%;}#sk-903217eb-26e6-41db-8f22-3568752258b3 div.sk-parallel-item {display: flex;flex-direction: column;position: relative;background-color: white;}#sk-903217eb-26e6-41db-8f22-3568752258b3 div.sk-parallel-item:first-child::after {align-self: flex-end;width: 50%;}#sk-903217eb-26e6-41db-8f22-3568752258b3 div.sk-parallel-item:last-child::after {align-self: flex-start;width: 50%;}#sk-903217eb-26e6-41db-8f22-3568752258b3 div.sk-parallel-item:only-child::after {width: 0;}#sk-903217eb-26e6-41db-8f22-3568752258b3 div.sk-dashed-wrapped {border: 1px dashed gray;margin: 0 0.4em 0.5em 0.4em;box-sizing: border-box;padding-bottom: 0.4em;background-color: white;position: relative;}#sk-903217eb-26e6-41db-8f22-3568752258b3 div.sk-label label {font-family: monospace;font-weight: bold;background-color: white;display: inline-block;line-height: 1.2em;}#sk-903217eb-26e6-41db-8f22-3568752258b3 div.sk-label-container {position: relative;z-index: 2;text-align: center;}#sk-903217eb-26e6-41db-8f22-3568752258b3 div.sk-container {/* jupyter's `normalize.less` sets `[hidden] { display: none; }` but bootstrap.min.css set `[hidden] { display: none !important; }` so we also need the `!important` here to be able to override the default hidden behavior on the sphinx rendered scikit-learn.org. See: https://github.com/scikit-learn/scikit-learn/issues/21755 */display: inline-block !important;position: relative;}#sk-903217eb-26e6-41db-8f22-3568752258b3 div.sk-text-repr-fallback {display: none;}</style><div id=\"sk-903217eb-26e6-41db-8f22-3568752258b3\" class=\"sk-top-container\"><div class=\"sk-text-repr-fallback\"><pre>RandomForestRegressor(random_state=42)</pre><b>Please rerun this cell to show the HTML repr or trust the notebook.</b></div><div class=\"sk-container\" hidden><div class=\"sk-item\"><div class=\"sk-estimator sk-toggleable\"><input class=\"sk-toggleable__control sk-hidden--visually\" id=\"5c21eb26-73b8-4a31-9cfd-40b3421a415d\" type=\"checkbox\" checked><label for=\"5c21eb26-73b8-4a31-9cfd-40b3421a415d\" class=\"sk-toggleable__label sk-toggleable__label-arrow\">RandomForestRegressor</label><div class=\"sk-toggleable__content\"><pre>RandomForestRegressor(random_state=42)</pre></div></div></div></div></div>"
            ]
          },
          "metadata": {},
          "execution_count": 35
        }
      ]
    },
    {
      "cell_type": "code",
      "source": [
        "#make predictions\n",
        "train_p = rf.predict(X_train)\n",
        "test_p = rf.predict(X_test)"
      ],
      "metadata": {
        "id": "v_X9tMlGKy4M"
      },
      "execution_count": 36,
      "outputs": []
    },
    {
      "cell_type": "code",
      "source": [
        "#get scores\n",
        "rf_train_score = rf.score(X_train, y_train)\n",
        "rf_test_score = rf.score(X_test, y_test)\n",
        "print(rf_train_score)\n",
        "print(rf_test_score)"
      ],
      "metadata": {
        "colab": {
          "base_uri": "https://localhost:8080/"
        },
        "id": "P-Oz-LknK2HZ",
        "outputId": "0321be18-5dac-4c94-fff6-050f27ec9c85"
      },
      "execution_count": 37,
      "outputs": [
        {
          "output_type": "stream",
          "name": "stdout",
          "text": [
            "0.9771342521069045\n",
            "0.8338530730048258\n"
          ]
        }
      ]
    },
    {
      "cell_type": "code",
      "source": [
        "#get depths\n",
        "est_depths = [estimator.get_depth() for estimator in rf.estimators_]\n",
        "max(est_depths)"
      ],
      "metadata": {
        "colab": {
          "base_uri": "https://localhost:8080/"
        },
        "id": "VWCfH8jzK5tr",
        "outputId": "ee049fda-f4b1-4643-fcd7-ed2d434f16c3"
      },
      "execution_count": 38,
      "outputs": [
        {
          "output_type": "execute_result",
          "data": {
            "text/plain": [
              "23"
            ]
          },
          "metadata": {},
          "execution_count": 38
        }
      ]
    },
    {
      "cell_type": "code",
      "source": [
        "#iterate through depths to find best test score\n",
        "depths = range(1, max(est_depths))\n",
        "scores = pd.DataFrame(index=depths, columns=['Test Score'])\n",
        "for depth in depths:    \n",
        "   model = RandomForestRegressor(max_depth=depth)\n",
        "   model.fit(X_train, y_train)\n",
        "   scores.loc[depth, 'Train Score'] = model.score(X_train, y_train)\n",
        "   scores.loc[depth, 'Test Score'] = model.score(X_test, y_test)\n",
        "   scores.head()\n",
        "sorted_scores = scores.sort_values(by='Test Score', ascending=False)\n",
        "sorted_scores.head()"
      ],
      "metadata": {
        "colab": {
          "base_uri": "https://localhost:8080/",
          "height": 206
        },
        "id": "0O5jistXK9vz",
        "outputId": "448908fb-867a-4e05-93f3-3aec40d797b9"
      },
      "execution_count": 39,
      "outputs": [
        {
          "output_type": "execute_result",
          "data": {
            "text/plain": [
              "   Test Score  Train Score\n",
              "17   0.834214     0.974366\n",
              "10   0.830842     0.973501\n",
              "16   0.829623     0.975839\n",
              "12   0.829606     0.974704\n",
              "9    0.829458     0.971082"
            ],
            "text/html": [
              "\n",
              "  <div id=\"df-bad1e35a-1820-4800-88d8-cdc5cf00920c\">\n",
              "    <div class=\"colab-df-container\">\n",
              "      <div>\n",
              "<style scoped>\n",
              "    .dataframe tbody tr th:only-of-type {\n",
              "        vertical-align: middle;\n",
              "    }\n",
              "\n",
              "    .dataframe tbody tr th {\n",
              "        vertical-align: top;\n",
              "    }\n",
              "\n",
              "    .dataframe thead th {\n",
              "        text-align: right;\n",
              "    }\n",
              "</style>\n",
              "<table border=\"1\" class=\"dataframe\">\n",
              "  <thead>\n",
              "    <tr style=\"text-align: right;\">\n",
              "      <th></th>\n",
              "      <th>Test Score</th>\n",
              "      <th>Train Score</th>\n",
              "    </tr>\n",
              "  </thead>\n",
              "  <tbody>\n",
              "    <tr>\n",
              "      <th>17</th>\n",
              "      <td>0.834214</td>\n",
              "      <td>0.974366</td>\n",
              "    </tr>\n",
              "    <tr>\n",
              "      <th>10</th>\n",
              "      <td>0.830842</td>\n",
              "      <td>0.973501</td>\n",
              "    </tr>\n",
              "    <tr>\n",
              "      <th>16</th>\n",
              "      <td>0.829623</td>\n",
              "      <td>0.975839</td>\n",
              "    </tr>\n",
              "    <tr>\n",
              "      <th>12</th>\n",
              "      <td>0.829606</td>\n",
              "      <td>0.974704</td>\n",
              "    </tr>\n",
              "    <tr>\n",
              "      <th>9</th>\n",
              "      <td>0.829458</td>\n",
              "      <td>0.971082</td>\n",
              "    </tr>\n",
              "  </tbody>\n",
              "</table>\n",
              "</div>\n",
              "      <button class=\"colab-df-convert\" onclick=\"convertToInteractive('df-bad1e35a-1820-4800-88d8-cdc5cf00920c')\"\n",
              "              title=\"Convert this dataframe to an interactive table.\"\n",
              "              style=\"display:none;\">\n",
              "        \n",
              "  <svg xmlns=\"http://www.w3.org/2000/svg\" height=\"24px\"viewBox=\"0 0 24 24\"\n",
              "       width=\"24px\">\n",
              "    <path d=\"M0 0h24v24H0V0z\" fill=\"none\"/>\n",
              "    <path d=\"M18.56 5.44l.94 2.06.94-2.06 2.06-.94-2.06-.94-.94-2.06-.94 2.06-2.06.94zm-11 1L8.5 8.5l.94-2.06 2.06-.94-2.06-.94L8.5 2.5l-.94 2.06-2.06.94zm10 10l.94 2.06.94-2.06 2.06-.94-2.06-.94-.94-2.06-.94 2.06-2.06.94z\"/><path d=\"M17.41 7.96l-1.37-1.37c-.4-.4-.92-.59-1.43-.59-.52 0-1.04.2-1.43.59L10.3 9.45l-7.72 7.72c-.78.78-.78 2.05 0 2.83L4 21.41c.39.39.9.59 1.41.59.51 0 1.02-.2 1.41-.59l7.78-7.78 2.81-2.81c.8-.78.8-2.07 0-2.86zM5.41 20L4 18.59l7.72-7.72 1.47 1.35L5.41 20z\"/>\n",
              "  </svg>\n",
              "      </button>\n",
              "      \n",
              "  <style>\n",
              "    .colab-df-container {\n",
              "      display:flex;\n",
              "      flex-wrap:wrap;\n",
              "      gap: 12px;\n",
              "    }\n",
              "\n",
              "    .colab-df-convert {\n",
              "      background-color: #E8F0FE;\n",
              "      border: none;\n",
              "      border-radius: 50%;\n",
              "      cursor: pointer;\n",
              "      display: none;\n",
              "      fill: #1967D2;\n",
              "      height: 32px;\n",
              "      padding: 0 0 0 0;\n",
              "      width: 32px;\n",
              "    }\n",
              "\n",
              "    .colab-df-convert:hover {\n",
              "      background-color: #E2EBFA;\n",
              "      box-shadow: 0px 1px 2px rgba(60, 64, 67, 0.3), 0px 1px 3px 1px rgba(60, 64, 67, 0.15);\n",
              "      fill: #174EA6;\n",
              "    }\n",
              "\n",
              "    [theme=dark] .colab-df-convert {\n",
              "      background-color: #3B4455;\n",
              "      fill: #D2E3FC;\n",
              "    }\n",
              "\n",
              "    [theme=dark] .colab-df-convert:hover {\n",
              "      background-color: #434B5C;\n",
              "      box-shadow: 0px 1px 3px 1px rgba(0, 0, 0, 0.15);\n",
              "      filter: drop-shadow(0px 1px 2px rgba(0, 0, 0, 0.3));\n",
              "      fill: #FFFFFF;\n",
              "    }\n",
              "  </style>\n",
              "\n",
              "      <script>\n",
              "        const buttonEl =\n",
              "          document.querySelector('#df-bad1e35a-1820-4800-88d8-cdc5cf00920c button.colab-df-convert');\n",
              "        buttonEl.style.display =\n",
              "          google.colab.kernel.accessAllowed ? 'block' : 'none';\n",
              "\n",
              "        async function convertToInteractive(key) {\n",
              "          const element = document.querySelector('#df-bad1e35a-1820-4800-88d8-cdc5cf00920c');\n",
              "          const dataTable =\n",
              "            await google.colab.kernel.invokeFunction('convertToInteractive',\n",
              "                                                     [key], {});\n",
              "          if (!dataTable) return;\n",
              "\n",
              "          const docLinkHtml = 'Like what you see? Visit the ' +\n",
              "            '<a target=\"_blank\" href=https://colab.research.google.com/notebooks/data_table.ipynb>data table notebook</a>'\n",
              "            + ' to learn more about interactive tables.';\n",
              "          element.innerHTML = '';\n",
              "          dataTable['output_type'] = 'display_data';\n",
              "          await google.colab.output.renderOutput(dataTable, element);\n",
              "          const docLink = document.createElement('div');\n",
              "          docLink.innerHTML = docLinkHtml;\n",
              "          element.appendChild(docLink);\n",
              "        }\n",
              "      </script>\n",
              "    </div>\n",
              "  </div>\n",
              "  "
            ]
          },
          "metadata": {},
          "execution_count": 39
        }
      ]
    },
    {
      "cell_type": "markdown",
      "source": [
        "Bagged Tree is the best Model "
      ],
      "metadata": {
        "id": "fcZQw8V-LFg_"
      }
    },
    {
      "cell_type": "code",
      "source": [
        "#create best random forest\n",
        "rf = RandomForestRegressor(random_state = 42, max_depth=5)"
      ],
      "metadata": {
        "id": "caqjftBHLQLx"
      },
      "execution_count": 40,
      "outputs": []
    },
    {
      "cell_type": "markdown",
      "source": [
        "#Get Metrics"
      ],
      "metadata": {
        "id": "xyZWqoJpLV6A"
      }
    },
    {
      "cell_type": "code",
      "source": [
        "#find MAE\n",
        "train_MAE = mean_absolute_error(y_train, train_p)\n",
        "test_MAE = mean_absolute_error(y_test, test_p)\n",
        "#print MAE\n",
        "print(f'Training MAE - {train_MAE}')\n",
        "print(f'Testing MAE - {test_MAE}\\n')\n",
        "\n",
        "#find MSE\n",
        "train_MSE = mean_squared_error(y_train, train_p)\n",
        "test_MSE = mean_squared_error(y_test, test_p)\n",
        "#print MSE\n",
        "print(f'Training MSE - {train_MSE}')\n",
        "print(f'Testing MSE - {test_MSE}\\n')\n",
        "\n",
        "#find RMSE\n",
        "train_RMSE = np.sqrt(train_MSE)\n",
        "test_RMSE = np.sqrt(test_MSE)\n",
        "#print RMSE\n",
        "print(f'Training RMSE - {train_RMSE}')\n",
        "print(f'Testing RMSE - {test_RMSE}\\n')"
      ],
      "metadata": {
        "colab": {
          "base_uri": "https://localhost:8080/"
        },
        "id": "D_pBVlGULdj1",
        "outputId": "2fb570a6-b518-4b43-c1c3-65891b5ea321"
      },
      "execution_count": 42,
      "outputs": [
        {
          "output_type": "stream",
          "name": "stdout",
          "text": [
            "Training MAE - 0.9535461741424778\n",
            "Testing MAE - 2.207858267716535\n",
            "\n",
            "Training MSE - 2.027774116094985\n",
            "Testing MSE - 11.634794724409444\n",
            "\n",
            "Training RMSE - 1.4239993385163439\n",
            "Testing RMSE - 3.410981489895459\n",
            "\n"
          ]
        }
      ]
    }
  ]
}